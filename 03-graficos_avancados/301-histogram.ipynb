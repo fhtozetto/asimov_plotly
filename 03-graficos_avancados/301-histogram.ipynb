{
 "cells": [
  {
   "cell_type": "markdown",
   "id": "91876387",
   "metadata": {},
   "source": [
    "# Histogramas"
   ]
  },
  {
   "cell_type": "code",
   "execution_count": 1,
   "id": "eac7eb89",
   "metadata": {},
   "outputs": [
    {
     "data": {
      "application/vnd.plotly.v1+json": {
       "config": {
        "plotlyServerURL": "https://plot.ly"
       },
       "data": [
        {
         "type": "histogram",
         "x": {
          "bdata": "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",
          "dtype": "f8"
         }
        }
       ],
       "layout": {
        "template": {
         "data": {
          "bar": [
           {
            "error_x": {
             "color": "#2a3f5f"
            },
            "error_y": {
             "color": "#2a3f5f"
            },
            "marker": {
             "line": {
              "color": "#E5ECF6",
              "width": 0.5
             },
             "pattern": {
              "fillmode": "overlay",
              "size": 10,
              "solidity": 0.2
             }
            },
            "type": "bar"
           }
          ],
          "barpolar": [
           {
            "marker": {
             "line": {
              "color": "#E5ECF6",
              "width": 0.5
             },
             "pattern": {
              "fillmode": "overlay",
              "size": 10,
              "solidity": 0.2
             }
            },
            "type": "barpolar"
           }
          ],
          "carpet": [
           {
            "aaxis": {
             "endlinecolor": "#2a3f5f",
             "gridcolor": "white",
             "linecolor": "white",
             "minorgridcolor": "white",
             "startlinecolor": "#2a3f5f"
            },
            "baxis": {
             "endlinecolor": "#2a3f5f",
             "gridcolor": "white",
             "linecolor": "white",
             "minorgridcolor": "white",
             "startlinecolor": "#2a3f5f"
            },
            "type": "carpet"
           }
          ],
          "choropleth": [
           {
            "colorbar": {
             "outlinewidth": 0,
             "ticks": ""
            },
            "type": "choropleth"
           }
          ],
          "contour": [
           {
            "colorbar": {
             "outlinewidth": 0,
             "ticks": ""
            },
            "colorscale": [
             [
              0,
              "#0d0887"
             ],
             [
              0.1111111111111111,
              "#46039f"
             ],
             [
              0.2222222222222222,
              "#7201a8"
             ],
             [
              0.3333333333333333,
              "#9c179e"
             ],
             [
              0.4444444444444444,
              "#bd3786"
             ],
             [
              0.5555555555555556,
              "#d8576b"
             ],
             [
              0.6666666666666666,
              "#ed7953"
             ],
             [
              0.7777777777777778,
              "#fb9f3a"
             ],
             [
              0.8888888888888888,
              "#fdca26"
             ],
             [
              1,
              "#f0f921"
             ]
            ],
            "type": "contour"
           }
          ],
          "contourcarpet": [
           {
            "colorbar": {
             "outlinewidth": 0,
             "ticks": ""
            },
            "type": "contourcarpet"
           }
          ],
          "heatmap": [
           {
            "colorbar": {
             "outlinewidth": 0,
             "ticks": ""
            },
            "colorscale": [
             [
              0,
              "#0d0887"
             ],
             [
              0.1111111111111111,
              "#46039f"
             ],
             [
              0.2222222222222222,
              "#7201a8"
             ],
             [
              0.3333333333333333,
              "#9c179e"
             ],
             [
              0.4444444444444444,
              "#bd3786"
             ],
             [
              0.5555555555555556,
              "#d8576b"
             ],
             [
              0.6666666666666666,
              "#ed7953"
             ],
             [
              0.7777777777777778,
              "#fb9f3a"
             ],
             [
              0.8888888888888888,
              "#fdca26"
             ],
             [
              1,
              "#f0f921"
             ]
            ],
            "type": "heatmap"
           }
          ],
          "histogram": [
           {
            "marker": {
             "pattern": {
              "fillmode": "overlay",
              "size": 10,
              "solidity": 0.2
             }
            },
            "type": "histogram"
           }
          ],
          "histogram2d": [
           {
            "colorbar": {
             "outlinewidth": 0,
             "ticks": ""
            },
            "colorscale": [
             [
              0,
              "#0d0887"
             ],
             [
              0.1111111111111111,
              "#46039f"
             ],
             [
              0.2222222222222222,
              "#7201a8"
             ],
             [
              0.3333333333333333,
              "#9c179e"
             ],
             [
              0.4444444444444444,
              "#bd3786"
             ],
             [
              0.5555555555555556,
              "#d8576b"
             ],
             [
              0.6666666666666666,
              "#ed7953"
             ],
             [
              0.7777777777777778,
              "#fb9f3a"
             ],
             [
              0.8888888888888888,
              "#fdca26"
             ],
             [
              1,
              "#f0f921"
             ]
            ],
            "type": "histogram2d"
           }
          ],
          "histogram2dcontour": [
           {
            "colorbar": {
             "outlinewidth": 0,
             "ticks": ""
            },
            "colorscale": [
             [
              0,
              "#0d0887"
             ],
             [
              0.1111111111111111,
              "#46039f"
             ],
             [
              0.2222222222222222,
              "#7201a8"
             ],
             [
              0.3333333333333333,
              "#9c179e"
             ],
             [
              0.4444444444444444,
              "#bd3786"
             ],
             [
              0.5555555555555556,
              "#d8576b"
             ],
             [
              0.6666666666666666,
              "#ed7953"
             ],
             [
              0.7777777777777778,
              "#fb9f3a"
             ],
             [
              0.8888888888888888,
              "#fdca26"
             ],
             [
              1,
              "#f0f921"
             ]
            ],
            "type": "histogram2dcontour"
           }
          ],
          "mesh3d": [
           {
            "colorbar": {
             "outlinewidth": 0,
             "ticks": ""
            },
            "type": "mesh3d"
           }
          ],
          "parcoords": [
           {
            "line": {
             "colorbar": {
              "outlinewidth": 0,
              "ticks": ""
             }
            },
            "type": "parcoords"
           }
          ],
          "pie": [
           {
            "automargin": true,
            "type": "pie"
           }
          ],
          "scatter": [
           {
            "fillpattern": {
             "fillmode": "overlay",
             "size": 10,
             "solidity": 0.2
            },
            "type": "scatter"
           }
          ],
          "scatter3d": [
           {
            "line": {
             "colorbar": {
              "outlinewidth": 0,
              "ticks": ""
             }
            },
            "marker": {
             "colorbar": {
              "outlinewidth": 0,
              "ticks": ""
             }
            },
            "type": "scatter3d"
           }
          ],
          "scattercarpet": [
           {
            "marker": {
             "colorbar": {
              "outlinewidth": 0,
              "ticks": ""
             }
            },
            "type": "scattercarpet"
           }
          ],
          "scattergeo": [
           {
            "marker": {
             "colorbar": {
              "outlinewidth": 0,
              "ticks": ""
             }
            },
            "type": "scattergeo"
           }
          ],
          "scattergl": [
           {
            "marker": {
             "colorbar": {
              "outlinewidth": 0,
              "ticks": ""
             }
            },
            "type": "scattergl"
           }
          ],
          "scattermap": [
           {
            "marker": {
             "colorbar": {
              "outlinewidth": 0,
              "ticks": ""
             }
            },
            "type": "scattermap"
           }
          ],
          "scattermapbox": [
           {
            "marker": {
             "colorbar": {
              "outlinewidth": 0,
              "ticks": ""
             }
            },
            "type": "scattermapbox"
           }
          ],
          "scatterpolar": [
           {
            "marker": {
             "colorbar": {
              "outlinewidth": 0,
              "ticks": ""
             }
            },
            "type": "scatterpolar"
           }
          ],
          "scatterpolargl": [
           {
            "marker": {
             "colorbar": {
              "outlinewidth": 0,
              "ticks": ""
             }
            },
            "type": "scatterpolargl"
           }
          ],
          "scatterternary": [
           {
            "marker": {
             "colorbar": {
              "outlinewidth": 0,
              "ticks": ""
             }
            },
            "type": "scatterternary"
           }
          ],
          "surface": [
           {
            "colorbar": {
             "outlinewidth": 0,
             "ticks": ""
            },
            "colorscale": [
             [
              0,
              "#0d0887"
             ],
             [
              0.1111111111111111,
              "#46039f"
             ],
             [
              0.2222222222222222,
              "#7201a8"
             ],
             [
              0.3333333333333333,
              "#9c179e"
             ],
             [
              0.4444444444444444,
              "#bd3786"
             ],
             [
              0.5555555555555556,
              "#d8576b"
             ],
             [
              0.6666666666666666,
              "#ed7953"
             ],
             [
              0.7777777777777778,
              "#fb9f3a"
             ],
             [
              0.8888888888888888,
              "#fdca26"
             ],
             [
              1,
              "#f0f921"
             ]
            ],
            "type": "surface"
           }
          ],
          "table": [
           {
            "cells": {
             "fill": {
              "color": "#EBF0F8"
             },
             "line": {
              "color": "white"
             }
            },
            "header": {
             "fill": {
              "color": "#C8D4E3"
             },
             "line": {
              "color": "white"
             }
            },
            "type": "table"
           }
          ]
         },
         "layout": {
          "annotationdefaults": {
           "arrowcolor": "#2a3f5f",
           "arrowhead": 0,
           "arrowwidth": 1
          },
          "autotypenumbers": "strict",
          "coloraxis": {
           "colorbar": {
            "outlinewidth": 0,
            "ticks": ""
           }
          },
          "colorscale": {
           "diverging": [
            [
             0,
             "#8e0152"
            ],
            [
             0.1,
             "#c51b7d"
            ],
            [
             0.2,
             "#de77ae"
            ],
            [
             0.3,
             "#f1b6da"
            ],
            [
             0.4,
             "#fde0ef"
            ],
            [
             0.5,
             "#f7f7f7"
            ],
            [
             0.6,
             "#e6f5d0"
            ],
            [
             0.7,
             "#b8e186"
            ],
            [
             0.8,
             "#7fbc41"
            ],
            [
             0.9,
             "#4d9221"
            ],
            [
             1,
             "#276419"
            ]
           ],
           "sequential": [
            [
             0,
             "#0d0887"
            ],
            [
             0.1111111111111111,
             "#46039f"
            ],
            [
             0.2222222222222222,
             "#7201a8"
            ],
            [
             0.3333333333333333,
             "#9c179e"
            ],
            [
             0.4444444444444444,
             "#bd3786"
            ],
            [
             0.5555555555555556,
             "#d8576b"
            ],
            [
             0.6666666666666666,
             "#ed7953"
            ],
            [
             0.7777777777777778,
             "#fb9f3a"
            ],
            [
             0.8888888888888888,
             "#fdca26"
            ],
            [
             1,
             "#f0f921"
            ]
           ],
           "sequentialminus": [
            [
             0,
             "#0d0887"
            ],
            [
             0.1111111111111111,
             "#46039f"
            ],
            [
             0.2222222222222222,
             "#7201a8"
            ],
            [
             0.3333333333333333,
             "#9c179e"
            ],
            [
             0.4444444444444444,
             "#bd3786"
            ],
            [
             0.5555555555555556,
             "#d8576b"
            ],
            [
             0.6666666666666666,
             "#ed7953"
            ],
            [
             0.7777777777777778,
             "#fb9f3a"
            ],
            [
             0.8888888888888888,
             "#fdca26"
            ],
            [
             1,
             "#f0f921"
            ]
           ]
          },
          "colorway": [
           "#636efa",
           "#EF553B",
           "#00cc96",
           "#ab63fa",
           "#FFA15A",
           "#19d3f3",
           "#FF6692",
           "#B6E880",
           "#FF97FF",
           "#FECB52"
          ],
          "font": {
           "color": "#2a3f5f"
          },
          "geo": {
           "bgcolor": "white",
           "lakecolor": "white",
           "landcolor": "#E5ECF6",
           "showlakes": true,
           "showland": true,
           "subunitcolor": "white"
          },
          "hoverlabel": {
           "align": "left"
          },
          "hovermode": "closest",
          "mapbox": {
           "style": "light"
          },
          "paper_bgcolor": "white",
          "plot_bgcolor": "#E5ECF6",
          "polar": {
           "angularaxis": {
            "gridcolor": "white",
            "linecolor": "white",
            "ticks": ""
           },
           "bgcolor": "#E5ECF6",
           "radialaxis": {
            "gridcolor": "white",
            "linecolor": "white",
            "ticks": ""
           }
          },
          "scene": {
           "xaxis": {
            "backgroundcolor": "#E5ECF6",
            "gridcolor": "white",
            "gridwidth": 2,
            "linecolor": "white",
            "showbackground": true,
            "ticks": "",
            "zerolinecolor": "white"
           },
           "yaxis": {
            "backgroundcolor": "#E5ECF6",
            "gridcolor": "white",
            "gridwidth": 2,
            "linecolor": "white",
            "showbackground": true,
            "ticks": "",
            "zerolinecolor": "white"
           },
           "zaxis": {
            "backgroundcolor": "#E5ECF6",
            "gridcolor": "white",
            "gridwidth": 2,
            "linecolor": "white",
            "showbackground": true,
            "ticks": "",
            "zerolinecolor": "white"
           }
          },
          "shapedefaults": {
           "line": {
            "color": "#2a3f5f"
           }
          },
          "ternary": {
           "aaxis": {
            "gridcolor": "white",
            "linecolor": "white",
            "ticks": ""
           },
           "baxis": {
            "gridcolor": "white",
            "linecolor": "white",
            "ticks": ""
           },
           "bgcolor": "#E5ECF6",
           "caxis": {
            "gridcolor": "white",
            "linecolor": "white",
            "ticks": ""
           }
          },
          "title": {
           "x": 0.05
          },
          "xaxis": {
           "automargin": true,
           "gridcolor": "white",
           "linecolor": "white",
           "ticks": "",
           "title": {
            "standoff": 15
           },
           "zerolinecolor": "white",
           "zerolinewidth": 2
          },
          "yaxis": {
           "automargin": true,
           "gridcolor": "white",
           "linecolor": "white",
           "ticks": "",
           "title": {
            "standoff": 15
           },
           "zerolinecolor": "white",
           "zerolinewidth": 2
          }
         }
        }
       }
      }
     },
     "metadata": {},
     "output_type": "display_data"
    }
   ],
   "source": [
    "import plotly.graph_objects as go\n",
    "import numpy as np\n",
    "# Criando dados aleatórios com distribuição normal\n",
    "x = np.random.randn(500)\n",
    "# Criando a figura com o histograma\n",
    "fig = go.Figure(\n",
    "\tdata=[go.Histogram(x=x)]\n",
    ")\n",
    "# Exibindo o gráfico\n",
    "fig.show()"
   ]
  },
  {
   "cell_type": "code",
   "execution_count": 2,
   "id": "387cb69b",
   "metadata": {},
   "outputs": [
    {
     "data": {
      "application/vnd.plotly.v1+json": {
       "config": {
        "plotlyServerURL": "https://plot.ly"
       },
       "data": [
        {
         "opacity": 0.75,
         "type": "histogram",
         "x": {
          "bdata": "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",
          "dtype": "f8"
         }
        },
        {
         "opacity": 0.75,
         "type": "histogram",
         "x": {
          "bdata": "zl/LZqOAAUAe1tlHRP38P8w97Eb+8/Y/GPJOo9BsAkDxPhmImTcDQNAREA3Ftd8/OuIzo3Y26D/U6q7jMR3APzpKo2GRiPo/6olIQH30BEAig1GoxFb7v/XHUl9hSuo/CMKJkhKi8j+3oN8GVQL3P1pcxv3s1Pw/kAlRj8pkzj/secekHX/jP9C6jTXP6wJAMu2HMl060j9cIImx+h7LP+nlRWMhXfM/pFLX+jef5b9exesZvhv0v5Cha4k2v8m/DYieIedi9D/wpcoaTxviv6psVKmTBNA/NO/q67kvAEAMYx6+gBsGQK7UA/8WPQNAZI8QlhlL8r/4vAENhM72PyAu8DwHDt4/WsxyNEH9+z9glqfs6uj/PwCXLuRN9Ze/+qUn+41F1z+OnxfWm2DiP+4sNq1HUgBAMbuFiz7e5j/KF+3z/kHmPx7W9lCjUeC/ILN5MZYG3b+kbqJbbGgDQLG2h3wPzug/cmX2+/wq/j/iYMJvY1PZP10a/WRlpgZADJ1wXmhm1D9bjdsODV/xP+h00lL2RO8/Vhd3jArB/z/AeRf4NDuvv7A04bqTvQRAQiB3gWwE1T+x3r2IdEL/P0Cld/0Ffpm/9GhaekkQ/j9EOwpVdrX6P8JJSyvGxwJAinKKgBQ15z8eagjzBgHtP+ii8jjkdvg/+c6uW8dH8T+9eQmAsCvuP9Hvobcay/U/tC0Tuj+c8z9yImAvMVjQPwTN6/hOhAFALk6mLOvW/T/+qxVIJr/5PyDj14lQX/o/YJ0MwDD0qj8h5iIg9e0HQIAmZIK8O/k/2InpS8wTBEB8wfeSspDUP4/e+FBjnAtAuvbcSd8T/D9CdURo9/Lhvzie3MsBYty/yj5fvq0V/T8QekPfeWHjP26UdR8PvPE/krmp6KEbAUAQKD9VSRe2P7zBeaJO4eu/EjOKf/vR0T94J0mJ5gLBv+7p0yeA7f8/a7fuAi2h+T8ALmGk2vToP2pj29WoIvA/CAxa2SnLuT+oic0D8AHDPxDZor38/dm/mvFtZ3i45z/AFCVDKkzVP5p9cG1MWeM/48bg9VHkAkCs0R8vy5nSP+mLxmUsaPc/vbn3/mpZ7T+YfwLjuazGv9yxsEusNPM/QNEG/BYC+j/FGxOobWf2P2IJMv2RivQ/cxZufop47j+TY1d5kGj0P7vucep4d+s/yO0NFATf9z8wVI0/Zh3kP3s2Eb6iIPA/wMLbR7R1mL+YqkLltQLwP3z9QecsVPs/+ZhZ2mV68T8CAgVZwGzcP4BIL3mTyZG/sHK+c2Uax7/SWuzbnhwKQPmj+9EihPM/YFk/mv9ZAECSc9f3QRzwP+DXFZGgjuo/2s5isfb1+D+ek+ix5CYAQGz8xAbEVfw/G03jfgCZ9D++UWvioMvSP+TwzVTAleY/euVk05BQ9r9YTNMabMTjP+iwvg/N7/g/jAQPX84T0b8ev4lnvP37P0hGSs39ZLY/MJlsOOOcw79gwYyZQEmdPzxZUA2VF/g/1I1ZGDf29z9s6soQ5R0BQLAKnMySles/0FGdjbmQqT/AXa61LC2av0p2mnvdSOi/wonV3dSr8j8aKXZsO1/7PzY9sJN6HPc/bwsxGLae/T+m+69cBTTqP+ZfxAxAvOw/hLanSQqS6z82P8No09bbP2zV40lAhso/mLMUbKnm0b8QvOkU+zbAP0QnlyP2sOg/LOSQbbXq9z/7g3B34DnwPwD1j2RkF9i/9B6sRe9F/T+jbO/G31MAQOuQFPl/NfI/tZ6OxiBr8z+3LcKQq3n3P5JhdZz0rO2/M1z5HfiN9T8QCeVHdlPePwI+GRpaXuG/h2nX0Mkc8j9wTW6iYAG2v8CqmvRYoZ0/MvbjAS+x9j8u6sSwx80DQCprCjT0yuc/AZ8ySqZdCEAl48Jd4mQBQIBAqSfe+ADA8fr8NkuZ8j//yPldYXP3P9pb4Q66wgFAaELfYK4v7j/Y5U/LZdb4P8SA6igSH94/8tfMNeE4/T/o3oF0XLEBQPSYd6xql9k/ULOG58CZ2T8cJP4BbXbQv8QkgUqPaty/mPYk9esq7T+8duGE+BoCQAj2Qp0xn9C/+wnHmZjr6D+AO/7rksPyPw+ul34WuPI/wZo3zRqP/z/ZETly+mf3P21I3nI3X/A/Zq0WjS4P4j+eC0AULx76Pxr6YjSj7/E/CtjZMV1p5j8wiYykxLLsPxJOIANjHPS/WatR3fNy8T8ckM7knJfPPyzqVoQqrtU/nMVbUxusBEC4xhK7Rub+P+AlUKt1FbO/1kU2lr3S3j/Q77rHODHKvwTRrG1FouM/VbG+OUGv4D9wzVAXqhzlP5YNq8+QL+w/HklONBgf2j9MQORlJ8EFQCAH9xnWArS/RH/KV/gl9z+kB9KKMPvkPz+C1jQJ8uc/fWKamw8O9z+wofnMrKvtv5ouhWvjNAxAbqWzvGIiAkBmHelqsooFQGoylcRIq98/stV/ye3F/z8AoEt2F19dvwKd+0JM8dY/cN75Djcwsr9FGMrzm2z5P7yuMHP9+fU/1OI+KQa12L8ee+ZxE6TpP72IqJdcJfQ/y/JSxXSl4T9c7kP2Gf3BP+pAFR11RgVA5wE/JwJqBkBAZitkfv6kv7MgGRjLteo//gDr4a1u/z8Cd862qaUCQIHEnTvAqPA/AvVhBhTN/D86sggd7xL3P/lp3NwKoANAWlnksXvw1T+Wk2R0r1HgvxEi6q0i0O0/+80qmbte8z+AQbOxVdeYvyP+cfwZnP4/nBp0VZGJAEBs9VobtBvevzgBosXUHrw/Fo3Fcai38j/IZUViGMnGP4YoIjZDQvW/hIOLUDz9+j+Zzwj9raTgP/4pFp2CE+U/NrSx/A45+D/qJf2t+57tP7pi3oYCP+C/7E81wkrO0b/77WmXHi/hPzUb6prEzuk/nlw43kNhAkAY1Zd8DEPPvzTELSb+xt0/6HefrxmY/T/Kh5slrHzbP0z4UQhqFco/5kcrkPqc+j8PrCEa21H6P+MoLQJsevQ/roNF79gS6r+wk710bbrCPyAxRhhk8Lq/uW5BPQc+AUCT9MGazgj5P8iFx8YyOug/yGI1GJx3zL/62tUPNF71P5TPeD7vtQNAMjpnVX3d9z9wfZX6EdzVv4ZMpYLZFwJAMuDpQ+sj8D8gtntxmCvbP3xbDzJs6/Y/xHAqpD3c9D/DFFRfh+flP3IqrJhFRec/rkUNzzfT+j/sMbRmIk7iv/ruPsXgMPs/nDDLM0vR9z+K/Y69s5f/P7L+Ipx13QBAOmKLB4Y99j8MSvt5jVnLP3KTZZ86bgZADkh4kANa2D9A3gkZh9UGQImL4mn/2v0/OsSTUTpr9D+7QfrDhUngP3oInsbZF+Y/3MUXK53C27+o6nSmOcXcvw6N/C+Uzf0/ek9He1/nAkDuSWHw/NMHQLR7ZUx2gM0/JmZZxPBNAEA9MrXoJSDlPxEXCPE6UfY/BzYo9AGw7z9P51DgtrXyPz9XFRjuwOQ/kLjyH5Zy+j+DifLHk0j0P+orBd1brPY/xrvg6tlF+j9IoDS3vbPNv1ioj9Uhgte/OgSIaHmoA0CjkElg/6sOQPRfJgP63Oc/r6k+Yqhm6z9mRHu0aALvP/js14fFLNU/7llqIi4M1j/fZGpDLMkJQGg/zlR4DgZAxgibrzUO4L/H0kxjRaH/P7KDize8wum/Pl0C0C+jAECfGqfIihnwP/hOMXQx5tY/KOXxgwdM+j8HyAkzLpnlP0ZPw7P0dgJABj5n2KNZ8T+cNwF11yvRv2QDN8snieS/dLVcynKBA0CoP/Y9Gz3sP0VbvseZ9fw/0uzl9eEaAkDCRr2AvWbkP37D+LOqo/o/8FPPTWYkoT8GshA/yNXzP/8R2RZG7+4/kGv5wVKhxT9UDcsyyy3LP4BLt4p4X98/zptkrGpm/D+MrDgDDx/Zv9qIgY2JmuG/IEpXAgVAw78Jt4cKXRz8P5AcNf783ARAa7MYF8czA0CuHBFe/R/kv1ggDHGJ9vW/Qc+zKFiO/T9iOVcnk7/WPwB4qJad/ke/6/hV4hiX9T8MQlNL+Zb3v/opKS8f2gFAsOXDxpPT0b/wuKCxTqvnP3K1ftITLuC/2JvtEpWh4z+I9V+bBI/lPy6IvKpV6vU/Xpzrgtfi8j8kv2IbHQzTP6KZylA8eOA/iO56+VgR478Ur4utNMXqP0ppcdV5e/g/vmd25RAl/D+gIl+MTQ7Gv8D3kgUFvgdA2LogXC9z3b82x6EQ9t32PxbwDrOYe/M/OpkHpluR5D8WLsV5TX3hP0aGfJxCF+c/7JH5k3935z9CUWCd+Q3mv1Bl89Rv2fc/6iLp9nrd0D+sKdMYtxL6P+MVjpHdtfw/GOkdPdb3zL+qLW7vuF4BQObDD0E1vgJAJi9HmE5Q8D/wzlM1Yk0EQEDLgSKljtQ/4sE6XGUL/z9ioMFKHTTdP6IY8HC/hNE/suMwHWY/+T808SQ1Eofwv/y7BBLEZOo/RBSQthRU8b8klcCgVdz1Pza5SMecJvQ/9fSkXaLT+D/MJyUknMrwP3LeFZqmEfI/1r/t05ds+z9Rq9iKbn3yP8xg8/BJxQFAfluTxNsJ4b8A4iEAgvzEv2m4zGO9QPU/Eh40hUM6CUBkTnYwB63wP1M3wz5jMAlAEX74qqfD8j/gIdL7UQ6rv4taDOZLawVAvoYIByUE8D+UI7dr6UXlP9R1CIgGpcY/iKC5ZLY3AkBIAOdi2Hzev7WOJJ+prfI/itAoQ6xC9j99Jwn/1VPxP58yuXzpe/s/jiLedyxpAkCwVb39WlW4v2O/+Wc0XAxAqhjtjYIa6T/O2wZdYV4IQPBvOI5qJ/I/3Hchyh7DwT9cApJRQ9kAQJQvxYG+jgVAzO8e1hdk/D+YX0ZTy7i7P41kPQj3LvE/Zr2qGiKV4D+ohaMfN9/KP0RUwSk+fvA/5vHKHPmJ8z807Z4v1yLjP4wrDy/8fwJAd7CahEozAUBeDYrCsQ/RPzhnYKERddW/hATKB0Vq0T/s6o9fskrqPwBKnVqtfrW/0ItnPRaiqj+lc6aHh/j2P8Ayms7A2P4/ACREamLd3T+VRdHyuRryP0KzEuAZ3/I/UPHu7Yriy7+WaT+NIZPkPyIuUdjtkvk/IhhDNd3rBECmgcZy1bzvv4xr0wPWovq/4MNede6Su7/sTq47LiP1PxgCgCBBD8G/EZoMMbMq+z8M+x71VffUv2G0fjUiSBBAdhpiM93P1z+ALmc2FWaNP4BZNV+pOgBAKxydUSnR9z869pxQE1T6Pyq2krtnzNk/qFp4JB/QA0Bo/7vVJ9H7P8B6cGGy1Nu/2j0zgM8R+T/k+a6pqMPxPw==",
          "dtype": "f8"
         }
        }
       ],
       "layout": {
        "barmode": "overlay",
        "template": {
         "data": {
          "bar": [
           {
            "error_x": {
             "color": "#2a3f5f"
            },
            "error_y": {
             "color": "#2a3f5f"
            },
            "marker": {
             "line": {
              "color": "#E5ECF6",
              "width": 0.5
             },
             "pattern": {
              "fillmode": "overlay",
              "size": 10,
              "solidity": 0.2
             }
            },
            "type": "bar"
           }
          ],
          "barpolar": [
           {
            "marker": {
             "line": {
              "color": "#E5ECF6",
              "width": 0.5
             },
             "pattern": {
              "fillmode": "overlay",
              "size": 10,
              "solidity": 0.2
             }
            },
            "type": "barpolar"
           }
          ],
          "carpet": [
           {
            "aaxis": {
             "endlinecolor": "#2a3f5f",
             "gridcolor": "white",
             "linecolor": "white",
             "minorgridcolor": "white",
             "startlinecolor": "#2a3f5f"
            },
            "baxis": {
             "endlinecolor": "#2a3f5f",
             "gridcolor": "white",
             "linecolor": "white",
             "minorgridcolor": "white",
             "startlinecolor": "#2a3f5f"
            },
            "type": "carpet"
           }
          ],
          "choropleth": [
           {
            "colorbar": {
             "outlinewidth": 0,
             "ticks": ""
            },
            "type": "choropleth"
           }
          ],
          "contour": [
           {
            "colorbar": {
             "outlinewidth": 0,
             "ticks": ""
            },
            "colorscale": [
             [
              0,
              "#0d0887"
             ],
             [
              0.1111111111111111,
              "#46039f"
             ],
             [
              0.2222222222222222,
              "#7201a8"
             ],
             [
              0.3333333333333333,
              "#9c179e"
             ],
             [
              0.4444444444444444,
              "#bd3786"
             ],
             [
              0.5555555555555556,
              "#d8576b"
             ],
             [
              0.6666666666666666,
              "#ed7953"
             ],
             [
              0.7777777777777778,
              "#fb9f3a"
             ],
             [
              0.8888888888888888,
              "#fdca26"
             ],
             [
              1,
              "#f0f921"
             ]
            ],
            "type": "contour"
           }
          ],
          "contourcarpet": [
           {
            "colorbar": {
             "outlinewidth": 0,
             "ticks": ""
            },
            "type": "contourcarpet"
           }
          ],
          "heatmap": [
           {
            "colorbar": {
             "outlinewidth": 0,
             "ticks": ""
            },
            "colorscale": [
             [
              0,
              "#0d0887"
             ],
             [
              0.1111111111111111,
              "#46039f"
             ],
             [
              0.2222222222222222,
              "#7201a8"
             ],
             [
              0.3333333333333333,
              "#9c179e"
             ],
             [
              0.4444444444444444,
              "#bd3786"
             ],
             [
              0.5555555555555556,
              "#d8576b"
             ],
             [
              0.6666666666666666,
              "#ed7953"
             ],
             [
              0.7777777777777778,
              "#fb9f3a"
             ],
             [
              0.8888888888888888,
              "#fdca26"
             ],
             [
              1,
              "#f0f921"
             ]
            ],
            "type": "heatmap"
           }
          ],
          "histogram": [
           {
            "marker": {
             "pattern": {
              "fillmode": "overlay",
              "size": 10,
              "solidity": 0.2
             }
            },
            "type": "histogram"
           }
          ],
          "histogram2d": [
           {
            "colorbar": {
             "outlinewidth": 0,
             "ticks": ""
            },
            "colorscale": [
             [
              0,
              "#0d0887"
             ],
             [
              0.1111111111111111,
              "#46039f"
             ],
             [
              0.2222222222222222,
              "#7201a8"
             ],
             [
              0.3333333333333333,
              "#9c179e"
             ],
             [
              0.4444444444444444,
              "#bd3786"
             ],
             [
              0.5555555555555556,
              "#d8576b"
             ],
             [
              0.6666666666666666,
              "#ed7953"
             ],
             [
              0.7777777777777778,
              "#fb9f3a"
             ],
             [
              0.8888888888888888,
              "#fdca26"
             ],
             [
              1,
              "#f0f921"
             ]
            ],
            "type": "histogram2d"
           }
          ],
          "histogram2dcontour": [
           {
            "colorbar": {
             "outlinewidth": 0,
             "ticks": ""
            },
            "colorscale": [
             [
              0,
              "#0d0887"
             ],
             [
              0.1111111111111111,
              "#46039f"
             ],
             [
              0.2222222222222222,
              "#7201a8"
             ],
             [
              0.3333333333333333,
              "#9c179e"
             ],
             [
              0.4444444444444444,
              "#bd3786"
             ],
             [
              0.5555555555555556,
              "#d8576b"
             ],
             [
              0.6666666666666666,
              "#ed7953"
             ],
             [
              0.7777777777777778,
              "#fb9f3a"
             ],
             [
              0.8888888888888888,
              "#fdca26"
             ],
             [
              1,
              "#f0f921"
             ]
            ],
            "type": "histogram2dcontour"
           }
          ],
          "mesh3d": [
           {
            "colorbar": {
             "outlinewidth": 0,
             "ticks": ""
            },
            "type": "mesh3d"
           }
          ],
          "parcoords": [
           {
            "line": {
             "colorbar": {
              "outlinewidth": 0,
              "ticks": ""
             }
            },
            "type": "parcoords"
           }
          ],
          "pie": [
           {
            "automargin": true,
            "type": "pie"
           }
          ],
          "scatter": [
           {
            "fillpattern": {
             "fillmode": "overlay",
             "size": 10,
             "solidity": 0.2
            },
            "type": "scatter"
           }
          ],
          "scatter3d": [
           {
            "line": {
             "colorbar": {
              "outlinewidth": 0,
              "ticks": ""
             }
            },
            "marker": {
             "colorbar": {
              "outlinewidth": 0,
              "ticks": ""
             }
            },
            "type": "scatter3d"
           }
          ],
          "scattercarpet": [
           {
            "marker": {
             "colorbar": {
              "outlinewidth": 0,
              "ticks": ""
             }
            },
            "type": "scattercarpet"
           }
          ],
          "scattergeo": [
           {
            "marker": {
             "colorbar": {
              "outlinewidth": 0,
              "ticks": ""
             }
            },
            "type": "scattergeo"
           }
          ],
          "scattergl": [
           {
            "marker": {
             "colorbar": {
              "outlinewidth": 0,
              "ticks": ""
             }
            },
            "type": "scattergl"
           }
          ],
          "scattermap": [
           {
            "marker": {
             "colorbar": {
              "outlinewidth": 0,
              "ticks": ""
             }
            },
            "type": "scattermap"
           }
          ],
          "scattermapbox": [
           {
            "marker": {
             "colorbar": {
              "outlinewidth": 0,
              "ticks": ""
             }
            },
            "type": "scattermapbox"
           }
          ],
          "scatterpolar": [
           {
            "marker": {
             "colorbar": {
              "outlinewidth": 0,
              "ticks": ""
             }
            },
            "type": "scatterpolar"
           }
          ],
          "scatterpolargl": [
           {
            "marker": {
             "colorbar": {
              "outlinewidth": 0,
              "ticks": ""
             }
            },
            "type": "scatterpolargl"
           }
          ],
          "scatterternary": [
           {
            "marker": {
             "colorbar": {
              "outlinewidth": 0,
              "ticks": ""
             }
            },
            "type": "scatterternary"
           }
          ],
          "surface": [
           {
            "colorbar": {
             "outlinewidth": 0,
             "ticks": ""
            },
            "colorscale": [
             [
              0,
              "#0d0887"
             ],
             [
              0.1111111111111111,
              "#46039f"
             ],
             [
              0.2222222222222222,
              "#7201a8"
             ],
             [
              0.3333333333333333,
              "#9c179e"
             ],
             [
              0.4444444444444444,
              "#bd3786"
             ],
             [
              0.5555555555555556,
              "#d8576b"
             ],
             [
              0.6666666666666666,
              "#ed7953"
             ],
             [
              0.7777777777777778,
              "#fb9f3a"
             ],
             [
              0.8888888888888888,
              "#fdca26"
             ],
             [
              1,
              "#f0f921"
             ]
            ],
            "type": "surface"
           }
          ],
          "table": [
           {
            "cells": {
             "fill": {
              "color": "#EBF0F8"
             },
             "line": {
              "color": "white"
             }
            },
            "header": {
             "fill": {
              "color": "#C8D4E3"
             },
             "line": {
              "color": "white"
             }
            },
            "type": "table"
           }
          ]
         },
         "layout": {
          "annotationdefaults": {
           "arrowcolor": "#2a3f5f",
           "arrowhead": 0,
           "arrowwidth": 1
          },
          "autotypenumbers": "strict",
          "coloraxis": {
           "colorbar": {
            "outlinewidth": 0,
            "ticks": ""
           }
          },
          "colorscale": {
           "diverging": [
            [
             0,
             "#8e0152"
            ],
            [
             0.1,
             "#c51b7d"
            ],
            [
             0.2,
             "#de77ae"
            ],
            [
             0.3,
             "#f1b6da"
            ],
            [
             0.4,
             "#fde0ef"
            ],
            [
             0.5,
             "#f7f7f7"
            ],
            [
             0.6,
             "#e6f5d0"
            ],
            [
             0.7,
             "#b8e186"
            ],
            [
             0.8,
             "#7fbc41"
            ],
            [
             0.9,
             "#4d9221"
            ],
            [
             1,
             "#276419"
            ]
           ],
           "sequential": [
            [
             0,
             "#0d0887"
            ],
            [
             0.1111111111111111,
             "#46039f"
            ],
            [
             0.2222222222222222,
             "#7201a8"
            ],
            [
             0.3333333333333333,
             "#9c179e"
            ],
            [
             0.4444444444444444,
             "#bd3786"
            ],
            [
             0.5555555555555556,
             "#d8576b"
            ],
            [
             0.6666666666666666,
             "#ed7953"
            ],
            [
             0.7777777777777778,
             "#fb9f3a"
            ],
            [
             0.8888888888888888,
             "#fdca26"
            ],
            [
             1,
             "#f0f921"
            ]
           ],
           "sequentialminus": [
            [
             0,
             "#0d0887"
            ],
            [
             0.1111111111111111,
             "#46039f"
            ],
            [
             0.2222222222222222,
             "#7201a8"
            ],
            [
             0.3333333333333333,
             "#9c179e"
            ],
            [
             0.4444444444444444,
             "#bd3786"
            ],
            [
             0.5555555555555556,
             "#d8576b"
            ],
            [
             0.6666666666666666,
             "#ed7953"
            ],
            [
             0.7777777777777778,
             "#fb9f3a"
            ],
            [
             0.8888888888888888,
             "#fdca26"
            ],
            [
             1,
             "#f0f921"
            ]
           ]
          },
          "colorway": [
           "#636efa",
           "#EF553B",
           "#00cc96",
           "#ab63fa",
           "#FFA15A",
           "#19d3f3",
           "#FF6692",
           "#B6E880",
           "#FF97FF",
           "#FECB52"
          ],
          "font": {
           "color": "#2a3f5f"
          },
          "geo": {
           "bgcolor": "white",
           "lakecolor": "white",
           "landcolor": "#E5ECF6",
           "showlakes": true,
           "showland": true,
           "subunitcolor": "white"
          },
          "hoverlabel": {
           "align": "left"
          },
          "hovermode": "closest",
          "mapbox": {
           "style": "light"
          },
          "paper_bgcolor": "white",
          "plot_bgcolor": "#E5ECF6",
          "polar": {
           "angularaxis": {
            "gridcolor": "white",
            "linecolor": "white",
            "ticks": ""
           },
           "bgcolor": "#E5ECF6",
           "radialaxis": {
            "gridcolor": "white",
            "linecolor": "white",
            "ticks": ""
           }
          },
          "scene": {
           "xaxis": {
            "backgroundcolor": "#E5ECF6",
            "gridcolor": "white",
            "gridwidth": 2,
            "linecolor": "white",
            "showbackground": true,
            "ticks": "",
            "zerolinecolor": "white"
           },
           "yaxis": {
            "backgroundcolor": "#E5ECF6",
            "gridcolor": "white",
            "gridwidth": 2,
            "linecolor": "white",
            "showbackground": true,
            "ticks": "",
            "zerolinecolor": "white"
           },
           "zaxis": {
            "backgroundcolor": "#E5ECF6",
            "gridcolor": "white",
            "gridwidth": 2,
            "linecolor": "white",
            "showbackground": true,
            "ticks": "",
            "zerolinecolor": "white"
           }
          },
          "shapedefaults": {
           "line": {
            "color": "#2a3f5f"
           }
          },
          "ternary": {
           "aaxis": {
            "gridcolor": "white",
            "linecolor": "white",
            "ticks": ""
           },
           "baxis": {
            "gridcolor": "white",
            "linecolor": "white",
            "ticks": ""
           },
           "bgcolor": "#E5ECF6",
           "caxis": {
            "gridcolor": "white",
            "linecolor": "white",
            "ticks": ""
           }
          },
          "title": {
           "x": 0.05
          },
          "xaxis": {
           "automargin": true,
           "gridcolor": "white",
           "linecolor": "white",
           "ticks": "",
           "title": {
            "standoff": 15
           },
           "zerolinecolor": "white",
           "zerolinewidth": 2
          },
          "yaxis": {
           "automargin": true,
           "gridcolor": "white",
           "linecolor": "white",
           "ticks": "",
           "title": {
            "standoff": 15
           },
           "zerolinecolor": "white",
           "zerolinewidth": 2
          }
         }
        }
       }
      }
     },
     "metadata": {},
     "output_type": "display_data"
    }
   ],
   "source": [
    "# Criando um segundo conjunto de dados\n",
    "x1 = np.random.randn(500) + 1 # Deslocado 1 unidade para a direita\n",
    "# Criando o histograma comparativo\n",
    "fig = go.Figure()\n",
    "fig.add_trace(go.Histogram(x=x))\n",
    "fig.add_trace(go.Histogram(x=x1))\n",
    "# Sobrepondo os histogramas\n",
    "fig.update_layout(barmode='overlay')\n",
    "# Ajustando a opacidade para melhor visualização\n",
    "fig.update_traces(opacity=0.75)\n",
    "fig.show()"
   ]
  },
  {
   "cell_type": "code",
   "execution_count": null,
   "id": "66295cf8",
   "metadata": {},
   "outputs": [],
   "source": []
  }
 ],
 "metadata": {
  "kernelspec": {
   "display_name": "base",
   "language": "python",
   "name": "python3"
  },
  "language_info": {
   "codemirror_mode": {
    "name": "ipython",
    "version": 3
   },
   "file_extension": ".py",
   "mimetype": "text/x-python",
   "name": "python",
   "nbconvert_exporter": "python",
   "pygments_lexer": "ipython3",
   "version": "3.12.7"
  }
 },
 "nbformat": 4,
 "nbformat_minor": 5
}
