{
 "cells": [
  {
   "cell_type": "markdown",
   "id": "001e57a0",
   "metadata": {},
   "source": [
    "# Histogram2D"
   ]
  },
  {
   "cell_type": "code",
   "execution_count": 1,
   "id": "5e27add4",
   "metadata": {},
   "outputs": [
    {
     "data": {
      "application/vnd.plotly.v1+json": {
       "config": {
        "plotlyServerURL": "https://plot.ly"
       },
       "data": [
        {
         "type": "histogram2d",
         "x": {
          "bdata": "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",
          "dtype": "f8"
         },
         "y": {
          "bdata": "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",
          "dtype": "f8"
         }
        }
       ],
       "layout": {
        "template": {
         "data": {
          "bar": [
           {
            "error_x": {
             "color": "#2a3f5f"
            },
            "error_y": {
             "color": "#2a3f5f"
            },
            "marker": {
             "line": {
              "color": "#E5ECF6",
              "width": 0.5
             },
             "pattern": {
              "fillmode": "overlay",
              "size": 10,
              "solidity": 0.2
             }
            },
            "type": "bar"
           }
          ],
          "barpolar": [
           {
            "marker": {
             "line": {
              "color": "#E5ECF6",
              "width": 0.5
             },
             "pattern": {
              "fillmode": "overlay",
              "size": 10,
              "solidity": 0.2
             }
            },
            "type": "barpolar"
           }
          ],
          "carpet": [
           {
            "aaxis": {
             "endlinecolor": "#2a3f5f",
             "gridcolor": "white",
             "linecolor": "white",
             "minorgridcolor": "white",
             "startlinecolor": "#2a3f5f"
            },
            "baxis": {
             "endlinecolor": "#2a3f5f",
             "gridcolor": "white",
             "linecolor": "white",
             "minorgridcolor": "white",
             "startlinecolor": "#2a3f5f"
            },
            "type": "carpet"
           }
          ],
          "choropleth": [
           {
            "colorbar": {
             "outlinewidth": 0,
             "ticks": ""
            },
            "type": "choropleth"
           }
          ],
          "contour": [
           {
            "colorbar": {
             "outlinewidth": 0,
             "ticks": ""
            },
            "colorscale": [
             [
              0,
              "#0d0887"
             ],
             [
              0.1111111111111111,
              "#46039f"
             ],
             [
              0.2222222222222222,
              "#7201a8"
             ],
             [
              0.3333333333333333,
              "#9c179e"
             ],
             [
              0.4444444444444444,
              "#bd3786"
             ],
             [
              0.5555555555555556,
              "#d8576b"
             ],
             [
              0.6666666666666666,
              "#ed7953"
             ],
             [
              0.7777777777777778,
              "#fb9f3a"
             ],
             [
              0.8888888888888888,
              "#fdca26"
             ],
             [
              1,
              "#f0f921"
             ]
            ],
            "type": "contour"
           }
          ],
          "contourcarpet": [
           {
            "colorbar": {
             "outlinewidth": 0,
             "ticks": ""
            },
            "type": "contourcarpet"
           }
          ],
          "heatmap": [
           {
            "colorbar": {
             "outlinewidth": 0,
             "ticks": ""
            },
            "colorscale": [
             [
              0,
              "#0d0887"
             ],
             [
              0.1111111111111111,
              "#46039f"
             ],
             [
              0.2222222222222222,
              "#7201a8"
             ],
             [
              0.3333333333333333,
              "#9c179e"
             ],
             [
              0.4444444444444444,
              "#bd3786"
             ],
             [
              0.5555555555555556,
              "#d8576b"
             ],
             [
              0.6666666666666666,
              "#ed7953"
             ],
             [
              0.7777777777777778,
              "#fb9f3a"
             ],
             [
              0.8888888888888888,
              "#fdca26"
             ],
             [
              1,
              "#f0f921"
             ]
            ],
            "type": "heatmap"
           }
          ],
          "histogram": [
           {
            "marker": {
             "pattern": {
              "fillmode": "overlay",
              "size": 10,
              "solidity": 0.2
             }
            },
            "type": "histogram"
           }
          ],
          "histogram2d": [
           {
            "colorbar": {
             "outlinewidth": 0,
             "ticks": ""
            },
            "colorscale": [
             [
              0,
              "#0d0887"
             ],
             [
              0.1111111111111111,
              "#46039f"
             ],
             [
              0.2222222222222222,
              "#7201a8"
             ],
             [
              0.3333333333333333,
              "#9c179e"
             ],
             [
              0.4444444444444444,
              "#bd3786"
             ],
             [
              0.5555555555555556,
              "#d8576b"
             ],
             [
              0.6666666666666666,
              "#ed7953"
             ],
             [
              0.7777777777777778,
              "#fb9f3a"
             ],
             [
              0.8888888888888888,
              "#fdca26"
             ],
             [
              1,
              "#f0f921"
             ]
            ],
            "type": "histogram2d"
           }
          ],
          "histogram2dcontour": [
           {
            "colorbar": {
             "outlinewidth": 0,
             "ticks": ""
            },
            "colorscale": [
             [
              0,
              "#0d0887"
             ],
             [
              0.1111111111111111,
              "#46039f"
             ],
             [
              0.2222222222222222,
              "#7201a8"
             ],
             [
              0.3333333333333333,
              "#9c179e"
             ],
             [
              0.4444444444444444,
              "#bd3786"
             ],
             [
              0.5555555555555556,
              "#d8576b"
             ],
             [
              0.6666666666666666,
              "#ed7953"
             ],
             [
              0.7777777777777778,
              "#fb9f3a"
             ],
             [
              0.8888888888888888,
              "#fdca26"
             ],
             [
              1,
              "#f0f921"
             ]
            ],
            "type": "histogram2dcontour"
           }
          ],
          "mesh3d": [
           {
            "colorbar": {
             "outlinewidth": 0,
             "ticks": ""
            },
            "type": "mesh3d"
           }
          ],
          "parcoords": [
           {
            "line": {
             "colorbar": {
              "outlinewidth": 0,
              "ticks": ""
             }
            },
            "type": "parcoords"
           }
          ],
          "pie": [
           {
            "automargin": true,
            "type": "pie"
           }
          ],
          "scatter": [
           {
            "fillpattern": {
             "fillmode": "overlay",
             "size": 10,
             "solidity": 0.2
            },
            "type": "scatter"
           }
          ],
          "scatter3d": [
           {
            "line": {
             "colorbar": {
              "outlinewidth": 0,
              "ticks": ""
             }
            },
            "marker": {
             "colorbar": {
              "outlinewidth": 0,
              "ticks": ""
             }
            },
            "type": "scatter3d"
           }
          ],
          "scattercarpet": [
           {
            "marker": {
             "colorbar": {
              "outlinewidth": 0,
              "ticks": ""
             }
            },
            "type": "scattercarpet"
           }
          ],
          "scattergeo": [
           {
            "marker": {
             "colorbar": {
              "outlinewidth": 0,
              "ticks": ""
             }
            },
            "type": "scattergeo"
           }
          ],
          "scattergl": [
           {
            "marker": {
             "colorbar": {
              "outlinewidth": 0,
              "ticks": ""
             }
            },
            "type": "scattergl"
           }
          ],
          "scattermap": [
           {
            "marker": {
             "colorbar": {
              "outlinewidth": 0,
              "ticks": ""
             }
            },
            "type": "scattermap"
           }
          ],
          "scattermapbox": [
           {
            "marker": {
             "colorbar": {
              "outlinewidth": 0,
              "ticks": ""
             }
            },
            "type": "scattermapbox"
           }
          ],
          "scatterpolar": [
           {
            "marker": {
             "colorbar": {
              "outlinewidth": 0,
              "ticks": ""
             }
            },
            "type": "scatterpolar"
           }
          ],
          "scatterpolargl": [
           {
            "marker": {
             "colorbar": {
              "outlinewidth": 0,
              "ticks": ""
             }
            },
            "type": "scatterpolargl"
           }
          ],
          "scatterternary": [
           {
            "marker": {
             "colorbar": {
              "outlinewidth": 0,
              "ticks": ""
             }
            },
            "type": "scatterternary"
           }
          ],
          "surface": [
           {
            "colorbar": {
             "outlinewidth": 0,
             "ticks": ""
            },
            "colorscale": [
             [
              0,
              "#0d0887"
             ],
             [
              0.1111111111111111,
              "#46039f"
             ],
             [
              0.2222222222222222,
              "#7201a8"
             ],
             [
              0.3333333333333333,
              "#9c179e"
             ],
             [
              0.4444444444444444,
              "#bd3786"
             ],
             [
              0.5555555555555556,
              "#d8576b"
             ],
             [
              0.6666666666666666,
              "#ed7953"
             ],
             [
              0.7777777777777778,
              "#fb9f3a"
             ],
             [
              0.8888888888888888,
              "#fdca26"
             ],
             [
              1,
              "#f0f921"
             ]
            ],
            "type": "surface"
           }
          ],
          "table": [
           {
            "cells": {
             "fill": {
              "color": "#EBF0F8"
             },
             "line": {
              "color": "white"
             }
            },
            "header": {
             "fill": {
              "color": "#C8D4E3"
             },
             "line": {
              "color": "white"
             }
            },
            "type": "table"
           }
          ]
         },
         "layout": {
          "annotationdefaults": {
           "arrowcolor": "#2a3f5f",
           "arrowhead": 0,
           "arrowwidth": 1
          },
          "autotypenumbers": "strict",
          "coloraxis": {
           "colorbar": {
            "outlinewidth": 0,
            "ticks": ""
           }
          },
          "colorscale": {
           "diverging": [
            [
             0,
             "#8e0152"
            ],
            [
             0.1,
             "#c51b7d"
            ],
            [
             0.2,
             "#de77ae"
            ],
            [
             0.3,
             "#f1b6da"
            ],
            [
             0.4,
             "#fde0ef"
            ],
            [
             0.5,
             "#f7f7f7"
            ],
            [
             0.6,
             "#e6f5d0"
            ],
            [
             0.7,
             "#b8e186"
            ],
            [
             0.8,
             "#7fbc41"
            ],
            [
             0.9,
             "#4d9221"
            ],
            [
             1,
             "#276419"
            ]
           ],
           "sequential": [
            [
             0,
             "#0d0887"
            ],
            [
             0.1111111111111111,
             "#46039f"
            ],
            [
             0.2222222222222222,
             "#7201a8"
            ],
            [
             0.3333333333333333,
             "#9c179e"
            ],
            [
             0.4444444444444444,
             "#bd3786"
            ],
            [
             0.5555555555555556,
             "#d8576b"
            ],
            [
             0.6666666666666666,
             "#ed7953"
            ],
            [
             0.7777777777777778,
             "#fb9f3a"
            ],
            [
             0.8888888888888888,
             "#fdca26"
            ],
            [
             1,
             "#f0f921"
            ]
           ],
           "sequentialminus": [
            [
             0,
             "#0d0887"
            ],
            [
             0.1111111111111111,
             "#46039f"
            ],
            [
             0.2222222222222222,
             "#7201a8"
            ],
            [
             0.3333333333333333,
             "#9c179e"
            ],
            [
             0.4444444444444444,
             "#bd3786"
            ],
            [
             0.5555555555555556,
             "#d8576b"
            ],
            [
             0.6666666666666666,
             "#ed7953"
            ],
            [
             0.7777777777777778,
             "#fb9f3a"
            ],
            [
             0.8888888888888888,
             "#fdca26"
            ],
            [
             1,
             "#f0f921"
            ]
           ]
          },
          "colorway": [
           "#636efa",
           "#EF553B",
           "#00cc96",
           "#ab63fa",
           "#FFA15A",
           "#19d3f3",
           "#FF6692",
           "#B6E880",
           "#FF97FF",
           "#FECB52"
          ],
          "font": {
           "color": "#2a3f5f"
          },
          "geo": {
           "bgcolor": "white",
           "lakecolor": "white",
           "landcolor": "#E5ECF6",
           "showlakes": true,
           "showland": true,
           "subunitcolor": "white"
          },
          "hoverlabel": {
           "align": "left"
          },
          "hovermode": "closest",
          "mapbox": {
           "style": "light"
          },
          "paper_bgcolor": "white",
          "plot_bgcolor": "#E5ECF6",
          "polar": {
           "angularaxis": {
            "gridcolor": "white",
            "linecolor": "white",
            "ticks": ""
           },
           "bgcolor": "#E5ECF6",
           "radialaxis": {
            "gridcolor": "white",
            "linecolor": "white",
            "ticks": ""
           }
          },
          "scene": {
           "xaxis": {
            "backgroundcolor": "#E5ECF6",
            "gridcolor": "white",
            "gridwidth": 2,
            "linecolor": "white",
            "showbackground": true,
            "ticks": "",
            "zerolinecolor": "white"
           },
           "yaxis": {
            "backgroundcolor": "#E5ECF6",
            "gridcolor": "white",
            "gridwidth": 2,
            "linecolor": "white",
            "showbackground": true,
            "ticks": "",
            "zerolinecolor": "white"
           },
           "zaxis": {
            "backgroundcolor": "#E5ECF6",
            "gridcolor": "white",
            "gridwidth": 2,
            "linecolor": "white",
            "showbackground": true,
            "ticks": "",
            "zerolinecolor": "white"
           }
          },
          "shapedefaults": {
           "line": {
            "color": "#2a3f5f"
           }
          },
          "ternary": {
           "aaxis": {
            "gridcolor": "white",
            "linecolor": "white",
            "ticks": ""
           },
           "baxis": {
            "gridcolor": "white",
            "linecolor": "white",
            "ticks": ""
           },
           "bgcolor": "#E5ECF6",
           "caxis": {
            "gridcolor": "white",
            "linecolor": "white",
            "ticks": ""
           }
          },
          "title": {
           "x": 0.05
          },
          "xaxis": {
           "automargin": true,
           "gridcolor": "white",
           "linecolor": "white",
           "ticks": "",
           "title": {
            "standoff": 15
           },
           "zerolinecolor": "white",
           "zerolinewidth": 2
          },
          "yaxis": {
           "automargin": true,
           "gridcolor": "white",
           "linecolor": "white",
           "ticks": "",
           "title": {
            "standoff": 15
           },
           "zerolinecolor": "white",
           "zerolinewidth": 2
          }
         }
        }
       }
      }
     },
     "metadata": {},
     "output_type": "display_data"
    }
   ],
   "source": [
    "import plotly.graph_objects as go \n",
    "import numpy as np\n",
    "# Criando dados aleatórios para exemplo \n",
    "x = np.random.randn(500) \n",
    "y = np.random.randn(500) + 1 # Deslocado em +1 para diferenciar\n",
    "# Criando o histograma 2D \n",
    "fig = go.Figure( \n",
    "\tdata=[\n",
    "\t\tgo.Histogram2d(\n",
    "\t\t\tx=x, \n",
    "\t\t\ty=y\n",
    "\t\t)\n",
    "\t] \n",
    ") \n",
    "fig.show()"
   ]
  }
 ],
 "metadata": {
  "kernelspec": {
   "display_name": "base",
   "language": "python",
   "name": "python3"
  },
  "language_info": {
   "codemirror_mode": {
    "name": "ipython",
    "version": 3
   },
   "file_extension": ".py",
   "mimetype": "text/x-python",
   "name": "python",
   "nbconvert_exporter": "python",
   "pygments_lexer": "ipython3",
   "version": "3.12.7"
  }
 },
 "nbformat": 4,
 "nbformat_minor": 5
}
